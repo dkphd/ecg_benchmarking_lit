{
 "cells": [
  {
   "cell_type": "code",
   "execution_count": 47,
   "metadata": {},
   "outputs": [],
   "source": [
    "import torch\n",
    "from torch.nn.functional import softmax\n",
    "from torch import nn"
   ]
  },
  {
   "cell_type": "code",
   "execution_count": 48,
   "metadata": {},
   "outputs": [],
   "source": [
    "fastai_data = torch.load(\"/home/arek/Desktop/ecg_benchmarking_lit/prediction_data_fastai_50.pt\")\n",
    "lightning_data = torch.load(\"/home/arek/Desktop/ecg_benchmarking_lit/prediction_data_pytorch_lightning_50.pt\")"
   ]
  },
  {
   "cell_type": "code",
   "execution_count": 49,
   "metadata": {},
   "outputs": [
    {
     "data": {
      "text/plain": [
       "tensor(True)"
      ]
     },
     "execution_count": 49,
     "metadata": {},
     "output_type": "execute_result"
    }
   ],
   "source": [
    "torch.all(lightning_data['y'] == fastai_data['y'])"
   ]
  },
  {
   "cell_type": "code",
   "execution_count": 56,
   "metadata": {},
   "outputs": [],
   "source": [
    "# fastai_data['y_pred'] = torch.nn.functional.softmax(fastai_data['y_pred'], dim=-1)\n",
    "# lightning_data['y_pred'] = torch.nn.functional.softmax(lightning_data['y_pred'], dim=-1)\n",
    "\n",
    "fastai_data['y_pred'] = torch.nn.functional.sigmoid(fastai_data['y_pred'])\n",
    "lightning_data['y_pred'] = torch.nn.functional.sigmoid(lightning_data['y_pred'])"
   ]
  },
  {
   "cell_type": "code",
   "execution_count": 57,
   "metadata": {},
   "outputs": [],
   "source": [
    "# fastai_pred , lightning_pred, ground_truth = torch.argmax(fastai_data['y_pred'],axis=-1), torch.argmax(lightning_data['y_pred'],axis=-1), torch.argmax(lightning_data['y'],axis=1)"
   ]
  },
  {
   "cell_type": "code",
   "execution_count": 58,
   "metadata": {},
   "outputs": [],
   "source": [
    "fastai_pred , lightning_pred, ground_truth = fastai_data['y_pred'], lightning_data['y_pred'], lightning_data['y']"
   ]
  },
  {
   "cell_type": "code",
   "execution_count": 63,
   "metadata": {},
   "outputs": [
    {
     "data": {
      "text/plain": [
       "(tensor(0.6831), tensor(0.6808))"
      ]
     },
     "execution_count": 63,
     "metadata": {},
     "output_type": "execute_result"
    }
   ],
   "source": [
    "from torchmetrics.classification import MulticlassAccuracy\n",
    "\n",
    "target = torch.argmax(ground_truth, axis=-1)\n",
    "preds_fastai = torch.argmax(fastai_pred, axis=-1)\n",
    "preds_lightning = torch.argmax(lightning_pred, axis=-1)\n",
    "mca = MulticlassAccuracy(num_classes=ground_truth.size(1), average='weighted')\n",
    "mca(preds_fastai, target), mca(preds_lightning, target)"
   ]
  },
  {
   "cell_type": "code",
   "execution_count": 53,
   "metadata": {},
   "outputs": [],
   "source": [
    "loss_fn = nn.MSELoss()"
   ]
  },
  {
   "cell_type": "code",
   "execution_count": 55,
   "metadata": {},
   "outputs": [
    {
     "data": {
      "text/plain": [
       "(tensor(0.0863), tensor(0.0888))"
      ]
     },
     "execution_count": 55,
     "metadata": {},
     "output_type": "execute_result"
    }
   ],
   "source": [
    "loss_fn(fastai_pred, ground_truth), loss_fn(lightning_pred, ground_truth)\n"
   ]
  },
  {
   "cell_type": "code",
   "execution_count": 45,
   "metadata": {},
   "outputs": [
    {
     "data": {
      "text/plain": [
       "(tensor(2.6628e-05), tensor(0.1111))"
      ]
     },
     "execution_count": 45,
     "metadata": {},
     "output_type": "execute_result"
    }
   ],
   "source": [
    "torch.sum(ground_truth == fastai_pred) / torch.numel(ground_truth), loss_fn(fastai_pred, ground_truth)\n"
   ]
  },
  {
   "cell_type": "code",
   "execution_count": 46,
   "metadata": {},
   "outputs": [
    {
     "data": {
      "text/plain": [
       "(tensor(0.), tensor(0.1111))"
      ]
     },
     "execution_count": 46,
     "metadata": {},
     "output_type": "execute_result"
    }
   ],
   "source": [
    "torch.sum(ground_truth == lightning_pred) / torch.numel(ground_truth), loss_fn(fastai_pred, ground_truth)\n"
   ]
  },
  {
   "cell_type": "code",
   "execution_count": 29,
   "metadata": {},
   "outputs": [],
   "source": [
    "loss_fn = nn.MSELoss()"
   ]
  },
  {
   "cell_type": "code",
   "execution_count": null,
   "metadata": {},
   "outputs": [],
   "source": []
  }
 ],
 "metadata": {
  "kernelspec": {
   "display_name": "ecg",
   "language": "python",
   "name": "python3"
  },
  "language_info": {
   "codemirror_mode": {
    "name": "ipython",
    "version": 3
   },
   "file_extension": ".py",
   "mimetype": "text/x-python",
   "name": "python",
   "nbconvert_exporter": "python",
   "pygments_lexer": "ipython3",
   "version": "3.9.18"
  }
 },
 "nbformat": 4,
 "nbformat_minor": 2
}
